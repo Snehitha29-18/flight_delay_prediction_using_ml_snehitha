{
 "cells": [
  {
   "cell_type": "code",
   "execution_count": 1,
   "id": "2bd04c7c-8c73-49cd-a069-c8d03ed4072c",
   "metadata": {},
   "outputs": [],
   "source": [
    "#import libraries\n",
    "import numpy as np\n",
    "import pandas as pd"
   ]
  },
  {
   "cell_type": "code",
   "execution_count": 2,
   "id": "03465b27-03e0-446c-905f-4ae058e47b0b",
   "metadata": {},
   "outputs": [
    {
     "data": {
      "text/html": [
       "<div>\n",
       "<style scoped>\n",
       "    .dataframe tbody tr th:only-of-type {\n",
       "        vertical-align: middle;\n",
       "    }\n",
       "\n",
       "    .dataframe tbody tr th {\n",
       "        vertical-align: top;\n",
       "    }\n",
       "\n",
       "    .dataframe thead th {\n",
       "        text-align: right;\n",
       "    }\n",
       "</style>\n",
       "<table border=\"1\" class=\"dataframe\">\n",
       "  <thead>\n",
       "    <tr style=\"text-align: right;\">\n",
       "      <th></th>\n",
       "      <th>YEAR</th>\n",
       "      <th>QUARTER</th>\n",
       "      <th>MONTH</th>\n",
       "      <th>DAY_OF_MONTH</th>\n",
       "      <th>DAY_OF_WEEK</th>\n",
       "      <th>UNIQUE_CARRIER</th>\n",
       "      <th>TAIL_NUM</th>\n",
       "      <th>FL_NUM</th>\n",
       "      <th>ORIGIN_AIRPORT_ID</th>\n",
       "      <th>ORIGIN</th>\n",
       "      <th>...</th>\n",
       "      <th>CRS_ARR_TIME</th>\n",
       "      <th>ARR_TIME</th>\n",
       "      <th>ARR_DELAY</th>\n",
       "      <th>ARR_DEL15</th>\n",
       "      <th>CANCELLED</th>\n",
       "      <th>DIVERTED</th>\n",
       "      <th>CRS_ELAPSED_TIME</th>\n",
       "      <th>ACTUAL_ELAPSED_TIME</th>\n",
       "      <th>DISTANCE</th>\n",
       "      <th>Unnamed: 25</th>\n",
       "    </tr>\n",
       "  </thead>\n",
       "  <tbody>\n",
       "    <tr>\n",
       "      <th>0</th>\n",
       "      <td>2016</td>\n",
       "      <td>1</td>\n",
       "      <td>1</td>\n",
       "      <td>1</td>\n",
       "      <td>5</td>\n",
       "      <td>DL</td>\n",
       "      <td>N836DN</td>\n",
       "      <td>1399</td>\n",
       "      <td>10397</td>\n",
       "      <td>ATL</td>\n",
       "      <td>...</td>\n",
       "      <td>2143</td>\n",
       "      <td>2102.0</td>\n",
       "      <td>-41.0</td>\n",
       "      <td>0.0</td>\n",
       "      <td>0.0</td>\n",
       "      <td>0.0</td>\n",
       "      <td>338.0</td>\n",
       "      <td>295.0</td>\n",
       "      <td>2182.0</td>\n",
       "      <td>NaN</td>\n",
       "    </tr>\n",
       "    <tr>\n",
       "      <th>1</th>\n",
       "      <td>2016</td>\n",
       "      <td>1</td>\n",
       "      <td>1</td>\n",
       "      <td>1</td>\n",
       "      <td>5</td>\n",
       "      <td>DL</td>\n",
       "      <td>N964DN</td>\n",
       "      <td>1476</td>\n",
       "      <td>11433</td>\n",
       "      <td>DTW</td>\n",
       "      <td>...</td>\n",
       "      <td>1435</td>\n",
       "      <td>1439.0</td>\n",
       "      <td>4.0</td>\n",
       "      <td>0.0</td>\n",
       "      <td>0.0</td>\n",
       "      <td>0.0</td>\n",
       "      <td>110.0</td>\n",
       "      <td>115.0</td>\n",
       "      <td>528.0</td>\n",
       "      <td>NaN</td>\n",
       "    </tr>\n",
       "    <tr>\n",
       "      <th>2</th>\n",
       "      <td>2016</td>\n",
       "      <td>1</td>\n",
       "      <td>1</td>\n",
       "      <td>1</td>\n",
       "      <td>5</td>\n",
       "      <td>DL</td>\n",
       "      <td>N813DN</td>\n",
       "      <td>1597</td>\n",
       "      <td>10397</td>\n",
       "      <td>ATL</td>\n",
       "      <td>...</td>\n",
       "      <td>1215</td>\n",
       "      <td>1142.0</td>\n",
       "      <td>-33.0</td>\n",
       "      <td>0.0</td>\n",
       "      <td>0.0</td>\n",
       "      <td>0.0</td>\n",
       "      <td>335.0</td>\n",
       "      <td>300.0</td>\n",
       "      <td>2182.0</td>\n",
       "      <td>NaN</td>\n",
       "    </tr>\n",
       "    <tr>\n",
       "      <th>3</th>\n",
       "      <td>2016</td>\n",
       "      <td>1</td>\n",
       "      <td>1</td>\n",
       "      <td>1</td>\n",
       "      <td>5</td>\n",
       "      <td>DL</td>\n",
       "      <td>N587NW</td>\n",
       "      <td>1768</td>\n",
       "      <td>14747</td>\n",
       "      <td>SEA</td>\n",
       "      <td>...</td>\n",
       "      <td>1335</td>\n",
       "      <td>1345.0</td>\n",
       "      <td>10.0</td>\n",
       "      <td>0.0</td>\n",
       "      <td>0.0</td>\n",
       "      <td>0.0</td>\n",
       "      <td>196.0</td>\n",
       "      <td>205.0</td>\n",
       "      <td>1399.0</td>\n",
       "      <td>NaN</td>\n",
       "    </tr>\n",
       "    <tr>\n",
       "      <th>4</th>\n",
       "      <td>2016</td>\n",
       "      <td>1</td>\n",
       "      <td>1</td>\n",
       "      <td>1</td>\n",
       "      <td>5</td>\n",
       "      <td>DL</td>\n",
       "      <td>N836DN</td>\n",
       "      <td>1823</td>\n",
       "      <td>14747</td>\n",
       "      <td>SEA</td>\n",
       "      <td>...</td>\n",
       "      <td>607</td>\n",
       "      <td>615.0</td>\n",
       "      <td>8.0</td>\n",
       "      <td>0.0</td>\n",
       "      <td>0.0</td>\n",
       "      <td>0.0</td>\n",
       "      <td>247.0</td>\n",
       "      <td>259.0</td>\n",
       "      <td>1927.0</td>\n",
       "      <td>NaN</td>\n",
       "    </tr>\n",
       "  </tbody>\n",
       "</table>\n",
       "<p>5 rows × 26 columns</p>\n",
       "</div>"
      ],
      "text/plain": [
       "   YEAR  QUARTER  MONTH  DAY_OF_MONTH  DAY_OF_WEEK UNIQUE_CARRIER TAIL_NUM  \\\n",
       "0  2016        1      1             1            5             DL   N836DN   \n",
       "1  2016        1      1             1            5             DL   N964DN   \n",
       "2  2016        1      1             1            5             DL   N813DN   \n",
       "3  2016        1      1             1            5             DL   N587NW   \n",
       "4  2016        1      1             1            5             DL   N836DN   \n",
       "\n",
       "   FL_NUM  ORIGIN_AIRPORT_ID ORIGIN  ...  CRS_ARR_TIME ARR_TIME  ARR_DELAY  \\\n",
       "0    1399              10397    ATL  ...          2143   2102.0      -41.0   \n",
       "1    1476              11433    DTW  ...          1435   1439.0        4.0   \n",
       "2    1597              10397    ATL  ...          1215   1142.0      -33.0   \n",
       "3    1768              14747    SEA  ...          1335   1345.0       10.0   \n",
       "4    1823              14747    SEA  ...           607    615.0        8.0   \n",
       "\n",
       "   ARR_DEL15  CANCELLED  DIVERTED  CRS_ELAPSED_TIME  ACTUAL_ELAPSED_TIME  \\\n",
       "0        0.0        0.0       0.0             338.0                295.0   \n",
       "1        0.0        0.0       0.0             110.0                115.0   \n",
       "2        0.0        0.0       0.0             335.0                300.0   \n",
       "3        0.0        0.0       0.0             196.0                205.0   \n",
       "4        0.0        0.0       0.0             247.0                259.0   \n",
       "\n",
       "   DISTANCE  Unnamed: 25  \n",
       "0    2182.0          NaN  \n",
       "1     528.0          NaN  \n",
       "2    2182.0          NaN  \n",
       "3    1399.0          NaN  \n",
       "4    1927.0          NaN  \n",
       "\n",
       "[5 rows x 26 columns]"
      ]
     },
     "execution_count": 2,
     "metadata": {},
     "output_type": "execute_result"
    }
   ],
   "source": [
    "#Load the dataset\n",
    "flight_data = pd.read_csv('flightdata.csv')\n",
    "flight_data.head()"
   ]
  },
  {
   "cell_type": "code",
   "execution_count": 3,
   "id": "fbd7d55a-317d-44ce-9fb4-d448fd6b5e24",
   "metadata": {},
   "outputs": [
    {
     "data": {
      "text/plain": [
       "Index(['YEAR', 'QUARTER', 'MONTH', 'DAY_OF_MONTH', 'DAY_OF_WEEK',\n",
       "       'UNIQUE_CARRIER', 'TAIL_NUM', 'FL_NUM', 'ORIGIN_AIRPORT_ID', 'ORIGIN',\n",
       "       'DEST_AIRPORT_ID', 'DEST', 'CRS_DEP_TIME', 'DEP_TIME', 'DEP_DELAY',\n",
       "       'DEP_DEL15', 'CRS_ARR_TIME', 'ARR_TIME', 'ARR_DELAY', 'ARR_DEL15',\n",
       "       'CANCELLED', 'DIVERTED', 'CRS_ELAPSED_TIME', 'ACTUAL_ELAPSED_TIME',\n",
       "       'DISTANCE', 'Unnamed: 25'],\n",
       "      dtype='object')"
      ]
     },
     "execution_count": 3,
     "metadata": {},
     "output_type": "execute_result"
    }
   ],
   "source": [
    "flight_data.columns"
   ]
  },
  {
   "cell_type": "code",
   "execution_count": 4,
   "id": "d3b53aa8-e1ac-49bd-993d-6ab346618226",
   "metadata": {},
   "outputs": [
    {
     "data": {
      "text/plain": [
       "YEAR                     int64\n",
       "QUARTER                  int64\n",
       "MONTH                    int64\n",
       "DAY_OF_MONTH             int64\n",
       "DAY_OF_WEEK              int64\n",
       "UNIQUE_CARRIER          object\n",
       "TAIL_NUM                object\n",
       "FL_NUM                   int64\n",
       "ORIGIN_AIRPORT_ID        int64\n",
       "ORIGIN                  object\n",
       "DEST_AIRPORT_ID          int64\n",
       "DEST                    object\n",
       "CRS_DEP_TIME             int64\n",
       "DEP_TIME               float64\n",
       "DEP_DELAY              float64\n",
       "DEP_DEL15              float64\n",
       "CRS_ARR_TIME             int64\n",
       "ARR_TIME               float64\n",
       "ARR_DELAY              float64\n",
       "ARR_DEL15              float64\n",
       "CANCELLED              float64\n",
       "DIVERTED               float64\n",
       "CRS_ELAPSED_TIME       float64\n",
       "ACTUAL_ELAPSED_TIME    float64\n",
       "DISTANCE               float64\n",
       "Unnamed: 25            float64\n",
       "dtype: object"
      ]
     },
     "execution_count": 4,
     "metadata": {},
     "output_type": "execute_result"
    }
   ],
   "source": [
    "flight_data.dtypes"
   ]
  },
  {
   "cell_type": "code",
   "execution_count": 5,
   "id": "6e8a1101-6e3f-459c-88a8-cd456aa4a5dc",
   "metadata": {},
   "outputs": [
    {
     "name": "stdout",
     "output_type": "stream",
     "text": [
      "<class 'pandas.core.frame.DataFrame'>\n",
      "RangeIndex: 11231 entries, 0 to 11230\n",
      "Data columns (total 26 columns):\n",
      " #   Column               Non-Null Count  Dtype  \n",
      "---  ------               --------------  -----  \n",
      " 0   YEAR                 11231 non-null  int64  \n",
      " 1   QUARTER              11231 non-null  int64  \n",
      " 2   MONTH                11231 non-null  int64  \n",
      " 3   DAY_OF_MONTH         11231 non-null  int64  \n",
      " 4   DAY_OF_WEEK          11231 non-null  int64  \n",
      " 5   UNIQUE_CARRIER       11231 non-null  object \n",
      " 6   TAIL_NUM             11231 non-null  object \n",
      " 7   FL_NUM               11231 non-null  int64  \n",
      " 8   ORIGIN_AIRPORT_ID    11231 non-null  int64  \n",
      " 9   ORIGIN               11231 non-null  object \n",
      " 10  DEST_AIRPORT_ID      11231 non-null  int64  \n",
      " 11  DEST                 11231 non-null  object \n",
      " 12  CRS_DEP_TIME         11231 non-null  int64  \n",
      " 13  DEP_TIME             11124 non-null  float64\n",
      " 14  DEP_DELAY            11124 non-null  float64\n",
      " 15  DEP_DEL15            11124 non-null  float64\n",
      " 16  CRS_ARR_TIME         11231 non-null  int64  \n",
      " 17  ARR_TIME             11116 non-null  float64\n",
      " 18  ARR_DELAY            11043 non-null  float64\n",
      " 19  ARR_DEL15            11043 non-null  float64\n",
      " 20  CANCELLED            11231 non-null  float64\n",
      " 21  DIVERTED             11231 non-null  float64\n",
      " 22  CRS_ELAPSED_TIME     11231 non-null  float64\n",
      " 23  ACTUAL_ELAPSED_TIME  11043 non-null  float64\n",
      " 24  DISTANCE             11231 non-null  float64\n",
      " 25  Unnamed: 25          0 non-null      float64\n",
      "dtypes: float64(12), int64(10), object(4)\n",
      "memory usage: 2.2+ MB\n"
     ]
    }
   ],
   "source": [
    "# checking the dataype of the parameters(Columns)\n",
    "flight_data.info()"
   ]
  },
  {
   "cell_type": "code",
   "execution_count": 6,
   "id": "982abf4c-4090-42b0-a0ce-a43d53396f1a",
   "metadata": {},
   "outputs": [
    {
     "data": {
      "text/html": [
       "<div>\n",
       "<style scoped>\n",
       "    .dataframe tbody tr th:only-of-type {\n",
       "        vertical-align: middle;\n",
       "    }\n",
       "\n",
       "    .dataframe tbody tr th {\n",
       "        vertical-align: top;\n",
       "    }\n",
       "\n",
       "    .dataframe thead th {\n",
       "        text-align: right;\n",
       "    }\n",
       "</style>\n",
       "<table border=\"1\" class=\"dataframe\">\n",
       "  <thead>\n",
       "    <tr style=\"text-align: right;\">\n",
       "      <th></th>\n",
       "      <th>YEAR</th>\n",
       "      <th>QUARTER</th>\n",
       "      <th>MONTH</th>\n",
       "      <th>DAY_OF_MONTH</th>\n",
       "      <th>DAY_OF_WEEK</th>\n",
       "      <th>FL_NUM</th>\n",
       "      <th>ORIGIN_AIRPORT_ID</th>\n",
       "      <th>DEST_AIRPORT_ID</th>\n",
       "      <th>CRS_DEP_TIME</th>\n",
       "      <th>DEP_TIME</th>\n",
       "      <th>...</th>\n",
       "      <th>CRS_ARR_TIME</th>\n",
       "      <th>ARR_TIME</th>\n",
       "      <th>ARR_DELAY</th>\n",
       "      <th>ARR_DEL15</th>\n",
       "      <th>CANCELLED</th>\n",
       "      <th>DIVERTED</th>\n",
       "      <th>CRS_ELAPSED_TIME</th>\n",
       "      <th>ACTUAL_ELAPSED_TIME</th>\n",
       "      <th>DISTANCE</th>\n",
       "      <th>Unnamed: 25</th>\n",
       "    </tr>\n",
       "  </thead>\n",
       "  <tbody>\n",
       "    <tr>\n",
       "      <th>count</th>\n",
       "      <td>11231.0</td>\n",
       "      <td>11231.000000</td>\n",
       "      <td>11231.000000</td>\n",
       "      <td>11231.000000</td>\n",
       "      <td>11231.000000</td>\n",
       "      <td>11231.000000</td>\n",
       "      <td>11231.000000</td>\n",
       "      <td>11231.000000</td>\n",
       "      <td>11231.000000</td>\n",
       "      <td>11124.000000</td>\n",
       "      <td>...</td>\n",
       "      <td>11231.000000</td>\n",
       "      <td>11116.000000</td>\n",
       "      <td>11043.000000</td>\n",
       "      <td>11043.000000</td>\n",
       "      <td>11231.000000</td>\n",
       "      <td>11231.000000</td>\n",
       "      <td>11231.000000</td>\n",
       "      <td>11043.000000</td>\n",
       "      <td>11231.000000</td>\n",
       "      <td>0.0</td>\n",
       "    </tr>\n",
       "    <tr>\n",
       "      <th>mean</th>\n",
       "      <td>2016.0</td>\n",
       "      <td>2.544475</td>\n",
       "      <td>6.628973</td>\n",
       "      <td>15.790758</td>\n",
       "      <td>3.960199</td>\n",
       "      <td>1334.325617</td>\n",
       "      <td>12334.516695</td>\n",
       "      <td>12302.274508</td>\n",
       "      <td>1320.798326</td>\n",
       "      <td>1327.189410</td>\n",
       "      <td>...</td>\n",
       "      <td>1537.312795</td>\n",
       "      <td>1523.978499</td>\n",
       "      <td>-2.573123</td>\n",
       "      <td>0.124513</td>\n",
       "      <td>0.010150</td>\n",
       "      <td>0.006589</td>\n",
       "      <td>190.652124</td>\n",
       "      <td>179.661233</td>\n",
       "      <td>1161.031965</td>\n",
       "      <td>NaN</td>\n",
       "    </tr>\n",
       "    <tr>\n",
       "      <th>std</th>\n",
       "      <td>0.0</td>\n",
       "      <td>1.090701</td>\n",
       "      <td>3.354678</td>\n",
       "      <td>8.782056</td>\n",
       "      <td>1.995257</td>\n",
       "      <td>811.875227</td>\n",
       "      <td>1595.026510</td>\n",
       "      <td>1601.988550</td>\n",
       "      <td>490.737845</td>\n",
       "      <td>500.306462</td>\n",
       "      <td>...</td>\n",
       "      <td>502.512494</td>\n",
       "      <td>512.536041</td>\n",
       "      <td>39.232521</td>\n",
       "      <td>0.330181</td>\n",
       "      <td>0.100241</td>\n",
       "      <td>0.080908</td>\n",
       "      <td>78.386317</td>\n",
       "      <td>77.940399</td>\n",
       "      <td>643.683379</td>\n",
       "      <td>NaN</td>\n",
       "    </tr>\n",
       "    <tr>\n",
       "      <th>min</th>\n",
       "      <td>2016.0</td>\n",
       "      <td>1.000000</td>\n",
       "      <td>1.000000</td>\n",
       "      <td>1.000000</td>\n",
       "      <td>1.000000</td>\n",
       "      <td>7.000000</td>\n",
       "      <td>10397.000000</td>\n",
       "      <td>10397.000000</td>\n",
       "      <td>10.000000</td>\n",
       "      <td>1.000000</td>\n",
       "      <td>...</td>\n",
       "      <td>2.000000</td>\n",
       "      <td>1.000000</td>\n",
       "      <td>-67.000000</td>\n",
       "      <td>0.000000</td>\n",
       "      <td>0.000000</td>\n",
       "      <td>0.000000</td>\n",
       "      <td>93.000000</td>\n",
       "      <td>75.000000</td>\n",
       "      <td>509.000000</td>\n",
       "      <td>NaN</td>\n",
       "    </tr>\n",
       "    <tr>\n",
       "      <th>25%</th>\n",
       "      <td>2016.0</td>\n",
       "      <td>2.000000</td>\n",
       "      <td>4.000000</td>\n",
       "      <td>8.000000</td>\n",
       "      <td>2.000000</td>\n",
       "      <td>624.000000</td>\n",
       "      <td>10397.000000</td>\n",
       "      <td>10397.000000</td>\n",
       "      <td>905.000000</td>\n",
       "      <td>905.000000</td>\n",
       "      <td>...</td>\n",
       "      <td>1130.000000</td>\n",
       "      <td>1135.000000</td>\n",
       "      <td>-19.000000</td>\n",
       "      <td>0.000000</td>\n",
       "      <td>0.000000</td>\n",
       "      <td>0.000000</td>\n",
       "      <td>127.000000</td>\n",
       "      <td>117.000000</td>\n",
       "      <td>594.000000</td>\n",
       "      <td>NaN</td>\n",
       "    </tr>\n",
       "    <tr>\n",
       "      <th>50%</th>\n",
       "      <td>2016.0</td>\n",
       "      <td>3.000000</td>\n",
       "      <td>7.000000</td>\n",
       "      <td>16.000000</td>\n",
       "      <td>4.000000</td>\n",
       "      <td>1267.000000</td>\n",
       "      <td>12478.000000</td>\n",
       "      <td>12478.000000</td>\n",
       "      <td>1320.000000</td>\n",
       "      <td>1324.000000</td>\n",
       "      <td>...</td>\n",
       "      <td>1559.000000</td>\n",
       "      <td>1547.000000</td>\n",
       "      <td>-10.000000</td>\n",
       "      <td>0.000000</td>\n",
       "      <td>0.000000</td>\n",
       "      <td>0.000000</td>\n",
       "      <td>159.000000</td>\n",
       "      <td>149.000000</td>\n",
       "      <td>907.000000</td>\n",
       "      <td>NaN</td>\n",
       "    </tr>\n",
       "    <tr>\n",
       "      <th>75%</th>\n",
       "      <td>2016.0</td>\n",
       "      <td>3.000000</td>\n",
       "      <td>9.000000</td>\n",
       "      <td>23.000000</td>\n",
       "      <td>6.000000</td>\n",
       "      <td>2032.000000</td>\n",
       "      <td>13487.000000</td>\n",
       "      <td>13487.000000</td>\n",
       "      <td>1735.000000</td>\n",
       "      <td>1739.000000</td>\n",
       "      <td>...</td>\n",
       "      <td>1952.000000</td>\n",
       "      <td>1945.000000</td>\n",
       "      <td>1.000000</td>\n",
       "      <td>0.000000</td>\n",
       "      <td>0.000000</td>\n",
       "      <td>0.000000</td>\n",
       "      <td>255.000000</td>\n",
       "      <td>236.000000</td>\n",
       "      <td>1927.000000</td>\n",
       "      <td>NaN</td>\n",
       "    </tr>\n",
       "    <tr>\n",
       "      <th>max</th>\n",
       "      <td>2016.0</td>\n",
       "      <td>4.000000</td>\n",
       "      <td>12.000000</td>\n",
       "      <td>31.000000</td>\n",
       "      <td>7.000000</td>\n",
       "      <td>2853.000000</td>\n",
       "      <td>14747.000000</td>\n",
       "      <td>14747.000000</td>\n",
       "      <td>2359.000000</td>\n",
       "      <td>2400.000000</td>\n",
       "      <td>...</td>\n",
       "      <td>2359.000000</td>\n",
       "      <td>2400.000000</td>\n",
       "      <td>615.000000</td>\n",
       "      <td>1.000000</td>\n",
       "      <td>1.000000</td>\n",
       "      <td>1.000000</td>\n",
       "      <td>397.000000</td>\n",
       "      <td>428.000000</td>\n",
       "      <td>2422.000000</td>\n",
       "      <td>NaN</td>\n",
       "    </tr>\n",
       "  </tbody>\n",
       "</table>\n",
       "<p>8 rows × 22 columns</p>\n",
       "</div>"
      ],
      "text/plain": [
       "          YEAR       QUARTER         MONTH  DAY_OF_MONTH   DAY_OF_WEEK  \\\n",
       "count  11231.0  11231.000000  11231.000000  11231.000000  11231.000000   \n",
       "mean    2016.0      2.544475      6.628973     15.790758      3.960199   \n",
       "std        0.0      1.090701      3.354678      8.782056      1.995257   \n",
       "min     2016.0      1.000000      1.000000      1.000000      1.000000   \n",
       "25%     2016.0      2.000000      4.000000      8.000000      2.000000   \n",
       "50%     2016.0      3.000000      7.000000     16.000000      4.000000   \n",
       "75%     2016.0      3.000000      9.000000     23.000000      6.000000   \n",
       "max     2016.0      4.000000     12.000000     31.000000      7.000000   \n",
       "\n",
       "             FL_NUM  ORIGIN_AIRPORT_ID  DEST_AIRPORT_ID  CRS_DEP_TIME  \\\n",
       "count  11231.000000       11231.000000     11231.000000  11231.000000   \n",
       "mean    1334.325617       12334.516695     12302.274508   1320.798326   \n",
       "std      811.875227        1595.026510      1601.988550    490.737845   \n",
       "min        7.000000       10397.000000     10397.000000     10.000000   \n",
       "25%      624.000000       10397.000000     10397.000000    905.000000   \n",
       "50%     1267.000000       12478.000000     12478.000000   1320.000000   \n",
       "75%     2032.000000       13487.000000     13487.000000   1735.000000   \n",
       "max     2853.000000       14747.000000     14747.000000   2359.000000   \n",
       "\n",
       "           DEP_TIME  ...  CRS_ARR_TIME      ARR_TIME     ARR_DELAY  \\\n",
       "count  11124.000000  ...  11231.000000  11116.000000  11043.000000   \n",
       "mean    1327.189410  ...   1537.312795   1523.978499     -2.573123   \n",
       "std      500.306462  ...    502.512494    512.536041     39.232521   \n",
       "min        1.000000  ...      2.000000      1.000000    -67.000000   \n",
       "25%      905.000000  ...   1130.000000   1135.000000    -19.000000   \n",
       "50%     1324.000000  ...   1559.000000   1547.000000    -10.000000   \n",
       "75%     1739.000000  ...   1952.000000   1945.000000      1.000000   \n",
       "max     2400.000000  ...   2359.000000   2400.000000    615.000000   \n",
       "\n",
       "          ARR_DEL15     CANCELLED      DIVERTED  CRS_ELAPSED_TIME  \\\n",
       "count  11043.000000  11231.000000  11231.000000      11231.000000   \n",
       "mean       0.124513      0.010150      0.006589        190.652124   \n",
       "std        0.330181      0.100241      0.080908         78.386317   \n",
       "min        0.000000      0.000000      0.000000         93.000000   \n",
       "25%        0.000000      0.000000      0.000000        127.000000   \n",
       "50%        0.000000      0.000000      0.000000        159.000000   \n",
       "75%        0.000000      0.000000      0.000000        255.000000   \n",
       "max        1.000000      1.000000      1.000000        397.000000   \n",
       "\n",
       "       ACTUAL_ELAPSED_TIME      DISTANCE  Unnamed: 25  \n",
       "count         11043.000000  11231.000000          0.0  \n",
       "mean            179.661233   1161.031965          NaN  \n",
       "std              77.940399    643.683379          NaN  \n",
       "min              75.000000    509.000000          NaN  \n",
       "25%             117.000000    594.000000          NaN  \n",
       "50%             149.000000    907.000000          NaN  \n",
       "75%             236.000000   1927.000000          NaN  \n",
       "max             428.000000   2422.000000          NaN  \n",
       "\n",
       "[8 rows x 22 columns]"
      ]
     },
     "execution_count": 6,
     "metadata": {},
     "output_type": "execute_result"
    }
   ],
   "source": [
    "# Descriptive Analysis\n",
    "flight_data.describe()"
   ]
  },
  {
   "cell_type": "code",
   "execution_count": 7,
   "id": "e8f2639d-0539-48cc-a929-edbdb84a3829",
   "metadata": {},
   "outputs": [
    {
     "data": {
      "text/plain": [
       "(11231, 26)"
      ]
     },
     "execution_count": 7,
     "metadata": {},
     "output_type": "execute_result"
    }
   ],
   "source": [
    "flight_data.shape"
   ]
  },
  {
   "cell_type": "code",
   "execution_count": 8,
   "id": "67cf8edb-1b37-4dda-bd1d-e501ea33dad3",
   "metadata": {},
   "outputs": [
    {
     "data": {
      "text/plain": [
       "True"
      ]
     },
     "execution_count": 8,
     "metadata": {},
     "output_type": "execute_result"
    }
   ],
   "source": [
    "flight_data.isna().values.any()"
   ]
  },
  {
   "cell_type": "code",
   "execution_count": 9,
   "id": "42917c8c-e864-41af-9bc4-8fd1223ba1f8",
   "metadata": {},
   "outputs": [
    {
     "data": {
      "text/plain": [
       "YEAR                       0\n",
       "QUARTER                    0\n",
       "MONTH                      0\n",
       "DAY_OF_MONTH               0\n",
       "DAY_OF_WEEK                0\n",
       "UNIQUE_CARRIER             0\n",
       "TAIL_NUM                   0\n",
       "FL_NUM                     0\n",
       "ORIGIN_AIRPORT_ID          0\n",
       "ORIGIN                     0\n",
       "DEST_AIRPORT_ID            0\n",
       "DEST                       0\n",
       "CRS_DEP_TIME               0\n",
       "DEP_TIME                 107\n",
       "DEP_DELAY                107\n",
       "DEP_DEL15                107\n",
       "CRS_ARR_TIME               0\n",
       "ARR_TIME                 115\n",
       "ARR_DELAY                188\n",
       "ARR_DEL15                188\n",
       "CANCELLED                  0\n",
       "DIVERTED                   0\n",
       "CRS_ELAPSED_TIME           0\n",
       "ACTUAL_ELAPSED_TIME      188\n",
       "DISTANCE                   0\n",
       "Unnamed: 25            11231\n",
       "dtype: int64"
      ]
     },
     "execution_count": 9,
     "metadata": {},
     "output_type": "execute_result"
    }
   ],
   "source": [
    "flight_data.isna().sum()"
   ]
  },
  {
   "cell_type": "code",
   "execution_count": 10,
   "id": "66c59016-5597-42fb-aba2-ac7d00059848",
   "metadata": {},
   "outputs": [
    {
     "data": {
      "text/plain": [
       "array(['SEA', 'MSP', 'DTW', 'ATL', 'JFK'], dtype=object)"
      ]
     },
     "execution_count": 10,
     "metadata": {},
     "output_type": "execute_result"
    }
   ],
   "source": [
    "flight_data['DEST'].unique()"
   ]
  },
  {
   "cell_type": "code",
   "execution_count": 11,
   "id": "6f6d2cd3-f31b-4dcd-b8a1-1b3c87f3f68f",
   "metadata": {},
   "outputs": [],
   "source": [
    "# Data Visualization \n",
    "import matplotlib.pyplot as plt\n",
    "import seaborn as sns"
   ]
  },
  {
   "cell_type": "code",
   "execution_count": 15,
   "id": "70260b9d-36b9-42b5-9e1d-76834caf16bd",
   "metadata": {},
   "outputs": [
    {
     "data": {
      "text/plain": [
       "<Axes: xlabel='ARR_DELAY', ylabel='ARR_DEL15'>"
      ]
     },
     "execution_count": 15,
     "metadata": {},
     "output_type": "execute_result"
    },
    {
     "data": {
      "image/png": "[encoded data removed]",
      "text/plain": [
       "<Figure size 640x480 with 1 Axes>"
      ]
     },
     "metadata": {},
     "output_type": "display_data"
    }
   ],
   "source": [
    "sns.scatterplot(x='ARR_DELAY',y='ARR_DEL15',data=flight_data)\n"
   ]
  },
  {
   "cell_type": "code",
   "execution_count": 16,
   "id": "691e331e-0817-4621-923d-f159bfe215f2",
   "metadata": {},
   "outputs": [
    {
     "data": {
      "image/png": "[encoded data removed]",
      "text/plain": [
       "<Figure size 1000x600 with 1 Axes>"
      ]
     },
     "metadata": {},
     "output_type": "display_data"
    }
   ],
   "source": [
    "import matplotlib.pyplot as plt\n",
    "\n",
    "# Count the number of flights for each airline\n",
    "airline_counts = flight_data['UNIQUE_CARRIER'].value_counts()\n",
    "\n",
    "# Plot the bar graph\n",
    "plt.figure(figsize=(10, 6))\n",
    "airline_counts.plot(kind='bar', color='skyblue')\n",
    "plt.title('Number of Flights per Airline')\n",
    "plt.xlabel('Airline')\n",
    "plt.ylabel('Number of Flights')\n",
    "plt.xticks(rotation=45)\n",
    "plt.show()\n",
    "\n"
   ]
  },
  {
   "cell_type": "code",
   "execution_count": 17,
   "id": "8ab98dd6-7bae-476d-a691-749fc32419bd",
   "metadata": {},
   "outputs": [
    {
     "data": {
      "image/png": "[encoded data removed]",
      "text/plain": [
       "<Figure size 800x800 with 1 Axes>"
      ]
     },
     "metadata": {},
     "output_type": "display_data"
    }
   ],
   "source": [
    "# Count the number of cancelled vs. not cancelled flights\n",
    "cancelled_counts = flight_data['CANCELLED'].value_counts()\n",
    "\n",
    "# Plot the pie chart\n",
    "plt.figure(figsize=(8, 8))\n",
    "cancelled_counts.plot(kind='pie', autopct='%1.1f%%', startangle=140, colors=['lightcoral', 'lightskyblue'])\n",
    "plt.title('Proportion of Cancelled Flights')\n",
    "plt.ylabel('')\n",
    "plt.show()\n"
   ]
  },
  {
   "cell_type": "code",
   "execution_count": 20,
   "id": "b6ce74de-dc00-435a-88a5-292d214b13e4",
   "metadata": {},
   "outputs": [
    {
     "data": {
      "text/plain": [
       "<seaborn.axisgrid.FacetGrid at 0x1f2c87c9c50>"
      ]
     },
     "execution_count": 20,
     "metadata": {},
     "output_type": "execute_result"
    },
    {
     "data": {
      "image/png": "[encoded data removed]",
      "text/plain": [
       "<Figure size 500x500 with 1 Axes>"
      ]
     },
     "metadata": {},
     "output_type": "display_data"
    }
   ],
   "source": [
    "sns.catplot(x='ARR_DEL15',y='ARR_DELAY',kind='bar',data=flight_data)"
   ]
  },
  {
   "cell_type": "code",
   "execution_count": 22,
   "id": "e893925a-6575-41f1-9ee9-324e381ad519",
   "metadata": {},
   "outputs": [
    {
     "data": {
      "text/plain": [
       "YEAR                     0\n",
       "QUARTER                  0\n",
       "MONTH                    0\n",
       "DAY_OF_MONTH             0\n",
       "DAY_OF_WEEK              0\n",
       "UNIQUE_CARRIER           0\n",
       "TAIL_NUM                 0\n",
       "FL_NUM                   0\n",
       "ORIGIN_AIRPORT_ID        0\n",
       "ORIGIN                   0\n",
       "DEST_AIRPORT_ID          0\n",
       "DEST                     0\n",
       "CRS_DEP_TIME             0\n",
       "DEP_TIME               107\n",
       "DEP_DELAY              107\n",
       "DEP_DEL15              107\n",
       "CRS_ARR_TIME             0\n",
       "ARR_TIME               115\n",
       "ARR_DELAY              188\n",
       "ARR_DEL15              188\n",
       "CANCELLED                0\n",
       "DIVERTED                 0\n",
       "CRS_ELAPSED_TIME         0\n",
       "ACTUAL_ELAPSED_TIME    188\n",
       "DISTANCE                 0\n",
       "dtype: int64"
      ]
     },
     "execution_count": 22,
     "metadata": {},
     "output_type": "execute_result"
    }
   ],
   "source": [
    "flight_data = flight_data.drop('Unnamed: 25', axis = 1)\n",
    "flight_data.isna().sum()"
   ]
  },
  {
   "cell_type": "code",
   "execution_count": 23,
   "id": "19c94ccd-b638-4568-a513-b811774eb4ef",
   "metadata": {},
   "outputs": [
    {
     "data": {
      "text/plain": [
       "FL_NUM            0\n",
       "MONTH             0\n",
       "DAY_OF_MONTH      0\n",
       "DAY_OF_WEEK       0\n",
       "ORIGIN            0\n",
       "DEST              0\n",
       "CRS_ARR_TIME      0\n",
       "DEP_DEL15       107\n",
       "ARR_DEL15       188\n",
       "dtype: int64"
      ]
     },
     "execution_count": 23,
     "metadata": {},
     "output_type": "execute_result"
    }
   ],
   "source": [
    "flight_data = flight_data[[\"FL_NUM\",\"MONTH\", \"DAY_OF_MONTH\", \"DAY_OF_WEEK\", \"ORIGIN\", \"DEST\", \"CRS_ARR_TIME\",\"DEP_DEL15\",\"ARR_DEL15\"]]\n",
    "flight_data.isna().sum()"
   ]
  },
  {
   "cell_type": "code",
   "execution_count": 24,
   "id": "20b75bf3-64ba-4e44-ada7-77ecb4cf70c0",
   "metadata": {},
   "outputs": [
    {
     "data": {
      "text/html": [
       "<div>\n",
       "<style scoped>\n",
       "    .dataframe tbody tr th:only-of-type {\n",
       "        vertical-align: middle;\n",
       "    }\n",
       "\n",
       "    .dataframe tbody tr th {\n",
       "        vertical-align: top;\n",
       "    }\n",
       "\n",
       "    .dataframe thead th {\n",
       "        text-align: right;\n",
       "    }\n",
       "</style>\n",
       "<table border=\"1\" class=\"dataframe\">\n",
       "  <thead>\n",
       "    <tr style=\"text-align: right;\">\n",
       "      <th></th>\n",
       "      <th>FL_NUM</th>\n",
       "      <th>MONTH</th>\n",
       "      <th>DAY_OF_MONTH</th>\n",
       "      <th>DAY_OF_WEEK</th>\n",
       "      <th>ORIGIN</th>\n",
       "      <th>DEST</th>\n",
       "      <th>CRS_ARR_TIME</th>\n",
       "      <th>DEP_DEL15</th>\n",
       "      <th>ARR_DEL15</th>\n",
       "    </tr>\n",
       "  </thead>\n",
       "  <tbody>\n",
       "    <tr>\n",
       "      <th>177</th>\n",
       "      <td>2834</td>\n",
       "      <td>1</td>\n",
       "      <td>9</td>\n",
       "      <td>6</td>\n",
       "      <td>MSP</td>\n",
       "      <td>SEA</td>\n",
       "      <td>852</td>\n",
       "      <td>0.0</td>\n",
       "      <td>1.0</td>\n",
       "    </tr>\n",
       "    <tr>\n",
       "      <th>178</th>\n",
       "      <td>2839</td>\n",
       "      <td>1</td>\n",
       "      <td>9</td>\n",
       "      <td>6</td>\n",
       "      <td>DTW</td>\n",
       "      <td>JFK</td>\n",
       "      <td>1724</td>\n",
       "      <td>0.0</td>\n",
       "      <td>0.0</td>\n",
       "    </tr>\n",
       "    <tr>\n",
       "      <th>179</th>\n",
       "      <td>86</td>\n",
       "      <td>1</td>\n",
       "      <td>10</td>\n",
       "      <td>7</td>\n",
       "      <td>MSP</td>\n",
       "      <td>DTW</td>\n",
       "      <td>1632</td>\n",
       "      <td>0.0</td>\n",
       "      <td>1.0</td>\n",
       "    </tr>\n",
       "    <tr>\n",
       "      <th>180</th>\n",
       "      <td>87</td>\n",
       "      <td>1</td>\n",
       "      <td>10</td>\n",
       "      <td>7</td>\n",
       "      <td>DTW</td>\n",
       "      <td>MSP</td>\n",
       "      <td>1649</td>\n",
       "      <td>1.0</td>\n",
       "      <td>0.0</td>\n",
       "    </tr>\n",
       "    <tr>\n",
       "      <th>181</th>\n",
       "      <td>423</td>\n",
       "      <td>1</td>\n",
       "      <td>10</td>\n",
       "      <td>7</td>\n",
       "      <td>JFK</td>\n",
       "      <td>ATL</td>\n",
       "      <td>1600</td>\n",
       "      <td>0.0</td>\n",
       "      <td>0.0</td>\n",
       "    </tr>\n",
       "    <tr>\n",
       "      <th>182</th>\n",
       "      <td>440</td>\n",
       "      <td>1</td>\n",
       "      <td>10</td>\n",
       "      <td>7</td>\n",
       "      <td>JFK</td>\n",
       "      <td>ATL</td>\n",
       "      <td>849</td>\n",
       "      <td>0.0</td>\n",
       "      <td>0.0</td>\n",
       "    </tr>\n",
       "    <tr>\n",
       "      <th>183</th>\n",
       "      <td>485</td>\n",
       "      <td>1</td>\n",
       "      <td>10</td>\n",
       "      <td>7</td>\n",
       "      <td>JFK</td>\n",
       "      <td>SEA</td>\n",
       "      <td>1945</td>\n",
       "      <td>1.0</td>\n",
       "      <td>0.0</td>\n",
       "    </tr>\n",
       "    <tr>\n",
       "      <th>184</th>\n",
       "      <td>557</td>\n",
       "      <td>1</td>\n",
       "      <td>10</td>\n",
       "      <td>7</td>\n",
       "      <td>MSP</td>\n",
       "      <td>DTW</td>\n",
       "      <td>912</td>\n",
       "      <td>0.0</td>\n",
       "      <td>1.0</td>\n",
       "    </tr>\n",
       "  </tbody>\n",
       "</table>\n",
       "</div>"
      ],
      "text/plain": [
       "     FL_NUM  MONTH  DAY_OF_MONTH  DAY_OF_WEEK ORIGIN DEST  CRS_ARR_TIME  \\\n",
       "177    2834      1             9            6    MSP  SEA           852   \n",
       "178    2839      1             9            6    DTW  JFK          1724   \n",
       "179      86      1            10            7    MSP  DTW          1632   \n",
       "180      87      1            10            7    DTW  MSP          1649   \n",
       "181     423      1            10            7    JFK  ATL          1600   \n",
       "182     440      1            10            7    JFK  ATL           849   \n",
       "183     485      1            10            7    JFK  SEA          1945   \n",
       "184     557      1            10            7    MSP  DTW           912   \n",
       "\n",
       "     DEP_DEL15  ARR_DEL15  \n",
       "177        0.0        1.0  \n",
       "178        0.0        0.0  \n",
       "179        0.0        1.0  \n",
       "180        1.0        0.0  \n",
       "181        0.0        0.0  \n",
       "182        0.0        0.0  \n",
       "183        1.0        0.0  \n",
       "184        0.0        1.0  "
      ]
     },
     "execution_count": 24,
     "metadata": {},
     "output_type": "execute_result"
    }
   ],
   "source": [
    "#Replace missing value 0's and 1's \n",
    "\n",
    "flight_data=flight_data.fillna({'ARR_DEL15':1})\n",
    "flight_data=flight_data.fillna({'DEP_DEL15':0})\n",
    "flight_data.iloc[177:185]"
   ]
  },
  {
   "cell_type": "code",
   "execution_count": 25,
   "id": "ed7b2b2e-4c8b-4880-b75d-2f5bb493baed",
   "metadata": {},
   "outputs": [
    {
     "data": {
      "text/html": [
       "<div>\n",
       "<style scoped>\n",
       "    .dataframe tbody tr th:only-of-type {\n",
       "        vertical-align: middle;\n",
       "    }\n",
       "\n",
       "    .dataframe tbody tr th {\n",
       "        vertical-align: top;\n",
       "    }\n",
       "\n",
       "    .dataframe thead th {\n",
       "        text-align: right;\n",
       "    }\n",
       "</style>\n",
       "<table border=\"1\" class=\"dataframe\">\n",
       "  <thead>\n",
       "    <tr style=\"text-align: right;\">\n",
       "      <th></th>\n",
       "      <th>FL_NUM</th>\n",
       "      <th>MONTH</th>\n",
       "      <th>DAY_OF_MONTH</th>\n",
       "      <th>DAY_OF_WEEK</th>\n",
       "      <th>ORIGIN</th>\n",
       "      <th>DEST</th>\n",
       "      <th>CRS_ARR_TIME</th>\n",
       "      <th>DEP_DEL15</th>\n",
       "      <th>ARR_DEL15</th>\n",
       "    </tr>\n",
       "  </thead>\n",
       "  <tbody>\n",
       "    <tr>\n",
       "      <th>0</th>\n",
       "      <td>1399</td>\n",
       "      <td>1</td>\n",
       "      <td>1</td>\n",
       "      <td>5</td>\n",
       "      <td>ATL</td>\n",
       "      <td>SEA</td>\n",
       "      <td>21</td>\n",
       "      <td>0.0</td>\n",
       "      <td>0.0</td>\n",
       "    </tr>\n",
       "    <tr>\n",
       "      <th>1</th>\n",
       "      <td>1476</td>\n",
       "      <td>1</td>\n",
       "      <td>1</td>\n",
       "      <td>5</td>\n",
       "      <td>DTW</td>\n",
       "      <td>MSP</td>\n",
       "      <td>14</td>\n",
       "      <td>0.0</td>\n",
       "      <td>0.0</td>\n",
       "    </tr>\n",
       "    <tr>\n",
       "      <th>2</th>\n",
       "      <td>1597</td>\n",
       "      <td>1</td>\n",
       "      <td>1</td>\n",
       "      <td>5</td>\n",
       "      <td>ATL</td>\n",
       "      <td>SEA</td>\n",
       "      <td>12</td>\n",
       "      <td>0.0</td>\n",
       "      <td>0.0</td>\n",
       "    </tr>\n",
       "    <tr>\n",
       "      <th>3</th>\n",
       "      <td>1768</td>\n",
       "      <td>1</td>\n",
       "      <td>1</td>\n",
       "      <td>5</td>\n",
       "      <td>SEA</td>\n",
       "      <td>MSP</td>\n",
       "      <td>13</td>\n",
       "      <td>0.0</td>\n",
       "      <td>0.0</td>\n",
       "    </tr>\n",
       "    <tr>\n",
       "      <th>4</th>\n",
       "      <td>1823</td>\n",
       "      <td>1</td>\n",
       "      <td>1</td>\n",
       "      <td>5</td>\n",
       "      <td>SEA</td>\n",
       "      <td>DTW</td>\n",
       "      <td>6</td>\n",
       "      <td>0.0</td>\n",
       "      <td>0.0</td>\n",
       "    </tr>\n",
       "  </tbody>\n",
       "</table>\n",
       "</div>"
      ],
      "text/plain": [
       "   FL_NUM  MONTH  DAY_OF_MONTH  DAY_OF_WEEK ORIGIN DEST  CRS_ARR_TIME  \\\n",
       "0    1399      1             1            5    ATL  SEA            21   \n",
       "1    1476      1             1            5    DTW  MSP            14   \n",
       "2    1597      1             1            5    ATL  SEA            12   \n",
       "3    1768      1             1            5    SEA  MSP            13   \n",
       "4    1823      1             1            5    SEA  DTW             6   \n",
       "\n",
       "   DEP_DEL15  ARR_DEL15  \n",
       "0        0.0        0.0  \n",
       "1        0.0        0.0  \n",
       "2        0.0        0.0  \n",
       "3        0.0        0.0  \n",
       "4        0.0        0.0  "
      ]
     },
     "execution_count": 25,
     "metadata": {},
     "output_type": "execute_result"
    }
   ],
   "source": [
    "import math\n",
    "\n",
    "for index, row in flight_data.iterrows():\n",
    "    flight_data.loc[index, 'CRS_ARR_TIME'] = math.floor(row['CRS_ARR_TIME'] / 100)\n",
    "flight_data.head()"
   ]
  },
  {
   "cell_type": "code",
   "execution_count": 26,
   "id": "eb9c7bef-4fc5-473f-97ac-f3d2066898e6",
   "metadata": {},
   "outputs": [
    {
     "data": {
      "text/plain": [
       "Index(['FL_NUM', 'MONTH', 'DAY_OF_MONTH', 'DAY_OF_WEEK', 'ORIGIN', 'DEST',\n",
       "       'CRS_ARR_TIME', 'DEP_DEL15', 'ARR_DEL15'],\n",
       "      dtype='object')"
      ]
     },
     "execution_count": 26,
     "metadata": {},
     "output_type": "execute_result"
    }
   ],
   "source": [
    "flight_data.columns"
   ]
  },
  {
   "cell_type": "code",
   "execution_count": 27,
   "id": "ccfadddd-56fd-423c-af29-bbea25e511d1",
   "metadata": {},
   "outputs": [],
   "source": [
    "#Label Encoding \n",
    "from sklearn.preprocessing import LabelEncoder\n",
    "le=LabelEncoder()"
   ]
  },
  {
   "cell_type": "code",
   "execution_count": 30,
   "id": "ed2a6811-56aa-413e-a7b0-93302629ebad",
   "metadata": {},
   "outputs": [],
   "source": [
    "flight_data['DEST']=le.fit_transform(flight_data['DEST'])\n",
    "flight_data['ORIGIN']=le.fit_transform(flight_data['ORIGIN'])"
   ]
  },
  {
   "cell_type": "code",
   "execution_count": 29,
   "id": "5a8fc30d-45bf-424c-8779-13dd7827175e",
   "metadata": {},
   "outputs": [
    {
     "data": {
      "text/html": [
       "<div>\n",
       "<style scoped>\n",
       "    .dataframe tbody tr th:only-of-type {\n",
       "        vertical-align: middle;\n",
       "    }\n",
       "\n",
       "    .dataframe tbody tr th {\n",
       "        vertical-align: top;\n",
       "    }\n",
       "\n",
       "    .dataframe thead th {\n",
       "        text-align: right;\n",
       "    }\n",
       "</style>\n",
       "<table border=\"1\" class=\"dataframe\">\n",
       "  <thead>\n",
       "    <tr style=\"text-align: right;\">\n",
       "      <th></th>\n",
       "      <th>FL_NUM</th>\n",
       "      <th>MONTH</th>\n",
       "      <th>DAY_OF_MONTH</th>\n",
       "      <th>DAY_OF_WEEK</th>\n",
       "      <th>ORIGIN</th>\n",
       "      <th>DEST</th>\n",
       "      <th>CRS_ARR_TIME</th>\n",
       "      <th>DEP_DEL15</th>\n",
       "      <th>ARR_DEL15</th>\n",
       "    </tr>\n",
       "  </thead>\n",
       "  <tbody>\n",
       "    <tr>\n",
       "      <th>0</th>\n",
       "      <td>1399</td>\n",
       "      <td>1</td>\n",
       "      <td>1</td>\n",
       "      <td>5</td>\n",
       "      <td>0</td>\n",
       "      <td>4</td>\n",
       "      <td>21</td>\n",
       "      <td>0.0</td>\n",
       "      <td>0.0</td>\n",
       "    </tr>\n",
       "    <tr>\n",
       "      <th>1</th>\n",
       "      <td>1476</td>\n",
       "      <td>1</td>\n",
       "      <td>1</td>\n",
       "      <td>5</td>\n",
       "      <td>1</td>\n",
       "      <td>3</td>\n",
       "      <td>14</td>\n",
       "      <td>0.0</td>\n",
       "      <td>0.0</td>\n",
       "    </tr>\n",
       "    <tr>\n",
       "      <th>2</th>\n",
       "      <td>1597</td>\n",
       "      <td>1</td>\n",
       "      <td>1</td>\n",
       "      <td>5</td>\n",
       "      <td>0</td>\n",
       "      <td>4</td>\n",
       "      <td>12</td>\n",
       "      <td>0.0</td>\n",
       "      <td>0.0</td>\n",
       "    </tr>\n",
       "    <tr>\n",
       "      <th>3</th>\n",
       "      <td>1768</td>\n",
       "      <td>1</td>\n",
       "      <td>1</td>\n",
       "      <td>5</td>\n",
       "      <td>4</td>\n",
       "      <td>3</td>\n",
       "      <td>13</td>\n",
       "      <td>0.0</td>\n",
       "      <td>0.0</td>\n",
       "    </tr>\n",
       "    <tr>\n",
       "      <th>4</th>\n",
       "      <td>1823</td>\n",
       "      <td>1</td>\n",
       "      <td>1</td>\n",
       "      <td>5</td>\n",
       "      <td>4</td>\n",
       "      <td>1</td>\n",
       "      <td>6</td>\n",
       "      <td>0.0</td>\n",
       "      <td>0.0</td>\n",
       "    </tr>\n",
       "  </tbody>\n",
       "</table>\n",
       "</div>"
      ],
      "text/plain": [
       "   FL_NUM  MONTH  DAY_OF_MONTH  DAY_OF_WEEK  ORIGIN  DEST  CRS_ARR_TIME  \\\n",
       "0    1399      1             1            5       0     4            21   \n",
       "1    1476      1             1            5       1     3            14   \n",
       "2    1597      1             1            5       0     4            12   \n",
       "3    1768      1             1            5       4     3            13   \n",
       "4    1823      1             1            5       4     1             6   \n",
       "\n",
       "   DEP_DEL15  ARR_DEL15  \n",
       "0        0.0        0.0  \n",
       "1        0.0        0.0  \n",
       "2        0.0        0.0  \n",
       "3        0.0        0.0  \n",
       "4        0.0        0.0  "
      ]
     },
     "execution_count": 29,
     "metadata": {},
     "output_type": "execute_result"
    }
   ],
   "source": [
    "flight_data.head(5)"
   ]
  },
  {
   "cell_type": "code",
   "execution_count": 31,
   "id": "36563af9-fb99-408a-82b6-cfe7ffd66b7f",
   "metadata": {},
   "outputs": [],
   "source": [
    "#Split the data into dependent and independent variables"
   ]
  },
  {
   "cell_type": "code",
   "execution_count": 32,
   "id": "1f1dc11e-1baf-4cf0-937f-2dcff19206a6",
   "metadata": {},
   "outputs": [
    {
     "data": {
      "text/html": [
       "<div>\n",
       "<style scoped>\n",
       "    .dataframe tbody tr th:only-of-type {\n",
       "        vertical-align: middle;\n",
       "    }\n",
       "\n",
       "    .dataframe tbody tr th {\n",
       "        vertical-align: top;\n",
       "    }\n",
       "\n",
       "    .dataframe thead th {\n",
       "        text-align: right;\n",
       "    }\n",
       "</style>\n",
       "<table border=\"1\" class=\"dataframe\">\n",
       "  <thead>\n",
       "    <tr style=\"text-align: right;\">\n",
       "      <th></th>\n",
       "      <th>FL_NUM</th>\n",
       "      <th>MONTH</th>\n",
       "      <th>DAY_OF_MONTH</th>\n",
       "      <th>DAY_OF_WEEK</th>\n",
       "      <th>CRS_ARR_TIME</th>\n",
       "      <th>DEP_DEL15</th>\n",
       "      <th>ARR_DEL15</th>\n",
       "      <th>ORIGIN_0</th>\n",
       "      <th>ORIGIN_1</th>\n",
       "      <th>ORIGIN_2</th>\n",
       "      <th>ORIGIN_3</th>\n",
       "      <th>ORIGIN_4</th>\n",
       "      <th>DEST_0</th>\n",
       "      <th>DEST_1</th>\n",
       "      <th>DEST_2</th>\n",
       "      <th>DEST_3</th>\n",
       "      <th>DEST_4</th>\n",
       "    </tr>\n",
       "  </thead>\n",
       "  <tbody>\n",
       "    <tr>\n",
       "      <th>0</th>\n",
       "      <td>1399</td>\n",
       "      <td>1</td>\n",
       "      <td>1</td>\n",
       "      <td>5</td>\n",
       "      <td>21</td>\n",
       "      <td>0.0</td>\n",
       "      <td>0.0</td>\n",
       "      <td>True</td>\n",
       "      <td>False</td>\n",
       "      <td>False</td>\n",
       "      <td>False</td>\n",
       "      <td>False</td>\n",
       "      <td>False</td>\n",
       "      <td>False</td>\n",
       "      <td>False</td>\n",
       "      <td>False</td>\n",
       "      <td>True</td>\n",
       "    </tr>\n",
       "    <tr>\n",
       "      <th>1</th>\n",
       "      <td>1476</td>\n",
       "      <td>1</td>\n",
       "      <td>1</td>\n",
       "      <td>5</td>\n",
       "      <td>14</td>\n",
       "      <td>0.0</td>\n",
       "      <td>0.0</td>\n",
       "      <td>False</td>\n",
       "      <td>True</td>\n",
       "      <td>False</td>\n",
       "      <td>False</td>\n",
       "      <td>False</td>\n",
       "      <td>False</td>\n",
       "      <td>False</td>\n",
       "      <td>False</td>\n",
       "      <td>True</td>\n",
       "      <td>False</td>\n",
       "    </tr>\n",
       "    <tr>\n",
       "      <th>2</th>\n",
       "      <td>1597</td>\n",
       "      <td>1</td>\n",
       "      <td>1</td>\n",
       "      <td>5</td>\n",
       "      <td>12</td>\n",
       "      <td>0.0</td>\n",
       "      <td>0.0</td>\n",
       "      <td>True</td>\n",
       "      <td>False</td>\n",
       "      <td>False</td>\n",
       "      <td>False</td>\n",
       "      <td>False</td>\n",
       "      <td>False</td>\n",
       "      <td>False</td>\n",
       "      <td>False</td>\n",
       "      <td>False</td>\n",
       "      <td>True</td>\n",
       "    </tr>\n",
       "    <tr>\n",
       "      <th>3</th>\n",
       "      <td>1768</td>\n",
       "      <td>1</td>\n",
       "      <td>1</td>\n",
       "      <td>5</td>\n",
       "      <td>13</td>\n",
       "      <td>0.0</td>\n",
       "      <td>0.0</td>\n",
       "      <td>False</td>\n",
       "      <td>False</td>\n",
       "      <td>False</td>\n",
       "      <td>False</td>\n",
       "      <td>True</td>\n",
       "      <td>False</td>\n",
       "      <td>False</td>\n",
       "      <td>False</td>\n",
       "      <td>True</td>\n",
       "      <td>False</td>\n",
       "    </tr>\n",
       "    <tr>\n",
       "      <th>4</th>\n",
       "      <td>1823</td>\n",
       "      <td>1</td>\n",
       "      <td>1</td>\n",
       "      <td>5</td>\n",
       "      <td>6</td>\n",
       "      <td>0.0</td>\n",
       "      <td>0.0</td>\n",
       "      <td>False</td>\n",
       "      <td>False</td>\n",
       "      <td>False</td>\n",
       "      <td>False</td>\n",
       "      <td>True</td>\n",
       "      <td>False</td>\n",
       "      <td>True</td>\n",
       "      <td>False</td>\n",
       "      <td>False</td>\n",
       "      <td>False</td>\n",
       "    </tr>\n",
       "  </tbody>\n",
       "</table>\n",
       "</div>"
      ],
      "text/plain": [
       "   FL_NUM  MONTH  DAY_OF_MONTH  DAY_OF_WEEK  CRS_ARR_TIME  DEP_DEL15  \\\n",
       "0    1399      1             1            5            21        0.0   \n",
       "1    1476      1             1            5            14        0.0   \n",
       "2    1597      1             1            5            12        0.0   \n",
       "3    1768      1             1            5            13        0.0   \n",
       "4    1823      1             1            5             6        0.0   \n",
       "\n",
       "   ARR_DEL15  ORIGIN_0  ORIGIN_1  ORIGIN_2  ORIGIN_3  ORIGIN_4  DEST_0  \\\n",
       "0        0.0      True     False     False     False     False   False   \n",
       "1        0.0     False      True     False     False     False   False   \n",
       "2        0.0      True     False     False     False     False   False   \n",
       "3        0.0     False     False     False     False      True   False   \n",
       "4        0.0     False     False     False     False      True   False   \n",
       "\n",
       "   DEST_1  DEST_2  DEST_3  DEST_4  \n",
       "0   False   False   False    True  \n",
       "1   False   False    True   False  \n",
       "2   False   False   False    True  \n",
       "3   False   False    True   False  \n",
       "4    True   False   False   False  "
      ]
     },
     "execution_count": 32,
     "metadata": {},
     "output_type": "execute_result"
    }
   ],
   "source": [
    "flight_data = pd.get_dummies(flight_data, columns=['ORIGIN','DEST'])\n",
    "flight_data.head()"
   ]
  },
  {
   "cell_type": "code",
   "execution_count": 33,
   "id": "ff7c5c8d-aa73-49c0-928f-18a88755b545",
   "metadata": {},
   "outputs": [],
   "source": [
    "x=flight_data.iloc[:,0:8].values\n",
    "y=flight_data.iloc[:,8:9].values"
   ]
  },
  {
   "cell_type": "code",
   "execution_count": 34,
   "id": "f49fbd12-740e-42a2-bb6e-11a87de567a5",
   "metadata": {},
   "outputs": [],
   "source": [
    "#Split The Dataset Into Train Set And Test Set\n",
    "from sklearn.model_selection import train_test_split\n",
    "x_train,x_test,y_train,y_test=train_test_split(x,y,test_size=0.2,random_state=0)"
   ]
  },
  {
   "cell_type": "code",
   "execution_count": 35,
   "id": "d8907aef-cbd9-45d1-a6f2-cc91b4f2b7e1",
   "metadata": {},
   "outputs": [
    {
     "data": {
      "text/plain": [
       "(2247, 8)"
      ]
     },
     "execution_count": 35,
     "metadata": {},
     "output_type": "execute_result"
    }
   ],
   "source": [
    "x_test.shape"
   ]
  },
  {
   "cell_type": "code",
   "execution_count": 36,
   "id": "c635db55-b203-4de8-a621-960d4e1e8d28",
   "metadata": {},
   "outputs": [
    {
     "data": {
      "text/plain": [
       "(8984, 8)"
      ]
     },
     "execution_count": 36,
     "metadata": {},
     "output_type": "execute_result"
    }
   ],
   "source": [
    "x_train.shape"
   ]
  },
  {
   "cell_type": "code",
   "execution_count": 37,
   "id": "f073e96c-fe45-4568-8a88-d8f3d6634290",
   "metadata": {},
   "outputs": [
    {
     "data": {
      "text/plain": [
       "(2247, 1)"
      ]
     },
     "execution_count": 37,
     "metadata": {},
     "output_type": "execute_result"
    }
   ],
   "source": [
    "y_test.shape"
   ]
  },
  {
   "cell_type": "code",
   "execution_count": 38,
   "id": "ed18bc73-576b-499e-a4df-726420bf85a8",
   "metadata": {},
   "outputs": [
    {
     "data": {
      "text/plain": [
       "(8984, 1)"
      ]
     },
     "execution_count": 38,
     "metadata": {},
     "output_type": "execute_result"
    }
   ],
   "source": [
    "y_train.shape"
   ]
  },
  {
   "cell_type": "code",
   "execution_count": null,
   "id": "79071197-52dd-49b8-9eb9-b1bbf5b7161b",
   "metadata": {},
   "outputs": [],
   "source": []
  },
  {
   "cell_type": "code",
   "execution_count": 39,
   "id": "f8befca2-b649-4081-83bd-ea1548738c0b",
   "metadata": {},
   "outputs": [],
   "source": [
    "#Logistic Regression\n",
    "from sklearn.linear_model import LogisticRegression"
   ]
  },
  {
   "cell_type": "code",
   "execution_count": 40,
   "id": "5981c544-b8d1-4de3-aa12-68ab7b489f74",
   "metadata": {},
   "outputs": [],
   "source": [
    "lr=LogisticRegression()"
   ]
  },
  {
   "cell_type": "code",
   "execution_count": 41,
   "id": "764514e5-3cb0-4792-b45a-6b5f5fe2f313",
   "metadata": {},
   "outputs": [
    {
     "name": "stderr",
     "output_type": "stream",
     "text": [
      "C:\\Users\\Admin\\anaconda3\\Lib\\site-packages\\sklearn\\utils\\validation.py:1143: DataConversionWarning: A column-vector y was passed when a 1d array was expected. Please change the shape of y to (n_samples, ), for example using ravel().\n",
      "  y = column_or_1d(y, warn=True)\n",
      "C:\\Users\\Admin\\anaconda3\\Lib\\site-packages\\sklearn\\linear_model\\_logistic.py:458: ConvergenceWarning: lbfgs failed to converge (status=1):\n",
      "STOP: TOTAL NO. of ITERATIONS REACHED LIMIT.\n",
      "\n",
      "Increase the number of iterations (max_iter) or scale the data as shown in:\n",
      "    https://scikit-learn.org/stable/modules/preprocessing.html\n",
      "Please also refer to the documentation for alternative solver options:\n",
      "    https://scikit-learn.org/stable/modules/linear_model.html#logistic-regression\n",
      "  n_iter_i = _check_optimize_result(\n"
     ]
    },
    {
     "data": {
      "text/plain": [
       "array([False, False, False, ..., False, False, False])"
      ]
     },
     "execution_count": 41,
     "metadata": {},
     "output_type": "execute_result"
    }
   ],
   "source": [
    "lr.fit(x_train,y_train)\n",
    "pred=lr.predict(x_test)\n",
    "pred"
   ]
  },
  {
   "cell_type": "code",
   "execution_count": 42,
   "id": "870a38e6-58d4-417f-814b-d5cc532cd7d2",
   "metadata": {},
   "outputs": [
    {
     "data": {
      "text/plain": [
       "array([False, False, False, ..., False, False, False])"
      ]
     },
     "execution_count": 42,
     "metadata": {},
     "output_type": "execute_result"
    }
   ],
   "source": [
    "pred1=lr.predict(x_train)\n",
    "pred1"
   ]
  },
  {
   "cell_type": "code",
   "execution_count": 43,
   "id": "27fce33c-ae71-48f2-bf06-67ff7fc81c91",
   "metadata": {},
   "outputs": [],
   "source": [
    "from sklearn.metrics import accuracy_score,classification_report,confusion_matrix"
   ]
  },
  {
   "cell_type": "code",
   "execution_count": 44,
   "id": "0028778d-422a-4b81-8f59-9aee3e7e7076",
   "metadata": {},
   "outputs": [
    {
     "data": {
      "text/plain": [
       "0.8045414069456812"
      ]
     },
     "execution_count": 44,
     "metadata": {},
     "output_type": "execute_result"
    }
   ],
   "source": [
    "accuracy_score(y_train,pred1)"
   ]
  },
  {
   "cell_type": "code",
   "execution_count": 56,
   "id": "b94859ab-f364-4651-bab5-a8cc28266907",
   "metadata": {},
   "outputs": [
    {
     "data": {
      "text/plain": [
       "0.9902091677792613"
      ]
     },
     "execution_count": 56,
     "metadata": {},
     "output_type": "execute_result"
    }
   ],
   "source": [
    "accuracy_score(y_test,pred)"
   ]
  },
  {
   "cell_type": "code",
   "execution_count": 46,
   "id": "5bb83609-d889-43f7-8d10-0e855feb479a",
   "metadata": {},
   "outputs": [
    {
     "data": {
      "text/plain": [
       "array([[1802,    0],\n",
       "       [ 445,    0]], dtype=int64)"
      ]
     },
     "execution_count": 46,
     "metadata": {},
     "output_type": "execute_result"
    }
   ],
   "source": [
    "confusion_matrix(y_test,pred)"
   ]
  },
  {
   "cell_type": "code",
   "execution_count": 57,
   "id": "cb8514e7-be27-4d1e-a488-05ce9be977bc",
   "metadata": {},
   "outputs": [
    {
     "name": "stdout",
     "output_type": "stream",
     "text": [
      "              precision    recall  f1-score   support\n",
      "\n",
      "       False       0.99      0.99      0.99      1802\n",
      "        True       0.97      0.98      0.98       445\n",
      "\n",
      "    accuracy                           0.99      2247\n",
      "   macro avg       0.98      0.99      0.98      2247\n",
      "weighted avg       0.99      0.99      0.99      2247\n",
      "\n"
     ]
    }
   ],
   "source": [
    "print(classification_report(y_test,pred))"
   ]
  },
  {
   "cell_type": "code",
   "execution_count": 47,
   "id": "04ccfa69-1a11-48da-b364-5455b94e1744",
   "metadata": {},
   "outputs": [],
   "source": [
    "#DecisionTree\n",
    "from sklearn.tree import DecisionTreeClassifier"
   ]
  },
  {
   "cell_type": "code",
   "execution_count": 49,
   "id": "db1c5766-8c64-4815-b71a-61476c715b56",
   "metadata": {},
   "outputs": [],
   "source": [
    "df=DecisionTreeClassifier(criterion='entropy',random_state=0)"
   ]
  },
  {
   "cell_type": "code",
   "execution_count": 50,
   "id": "3503d29c-83d6-4742-918d-7bd7193c6f21",
   "metadata": {},
   "outputs": [
    {
     "data": {
      "text/html": [
       "<style>#sk-container-id-1 {color: black;background-color: white;}#sk-container-id-1 pre{padding: 0;}#sk-container-id-1 div.sk-toggleable {background-color: white;}#sk-container-id-1 label.sk-toggleable__label {cursor: pointer;display: block;width: 100%;margin-bottom: 0;padding: 0.3em;box-sizing: border-box;text-align: center;}#sk-container-id-1 label.sk-toggleable__label-arrow:before {content: \"▸\";float: left;margin-right: 0.25em;color: #696969;}#sk-container-id-1 label.sk-toggleable__label-arrow:hover:before {color: black;}#sk-container-id-1 div.sk-estimator:hover label.sk-toggleable__label-arrow:before {color: black;}#sk-container-id-1 div.sk-toggleable__content {max-height: 0;max-width: 0;overflow: hidden;text-align: left;background-color: #f0f8ff;}#sk-container-id-1 div.sk-toggleable__content pre {margin: 0.2em;color: black;border-radius: 0.25em;background-color: #f0f8ff;}#sk-container-id-1 input.sk-toggleable__control:checked~div.sk-toggleable__content {max-height: 200px;max-width: 100%;overflow: auto;}#sk-container-id-1 input.sk-toggleable__control:checked~label.sk-toggleable__label-arrow:before {content: \"▾\";}#sk-container-id-1 div.sk-estimator input.sk-toggleable__control:checked~label.sk-toggleable__label {background-color: #d4ebff;}#sk-container-id-1 div.sk-label input.sk-toggleable__control:checked~label.sk-toggleable__label {background-color: #d4ebff;}#sk-container-id-1 input.sk-hidden--visually {border: 0;clip: rect(1px 1px 1px 1px);clip: rect(1px, 1px, 1px, 1px);height: 1px;margin: -1px;overflow: hidden;padding: 0;position: absolute;width: 1px;}#sk-container-id-1 div.sk-estimator {font-family: monospace;background-color: #f0f8ff;border: 1px dotted black;border-radius: 0.25em;box-sizing: border-box;margin-bottom: 0.5em;}#sk-container-id-1 div.sk-estimator:hover {background-color: #d4ebff;}#sk-container-id-1 div.sk-parallel-item::after {content: \"\";width: 100%;border-bottom: 1px solid gray;flex-grow: 1;}#sk-container-id-1 div.sk-label:hover label.sk-toggleable__label {background-color: #d4ebff;}#sk-container-id-1 div.sk-serial::before {content: \"\";position: absolute;border-left: 1px solid gray;box-sizing: border-box;top: 0;bottom: 0;left: 50%;z-index: 0;}#sk-container-id-1 div.sk-serial {display: flex;flex-direction: column;align-items: center;background-color: white;padding-right: 0.2em;padding-left: 0.2em;position: relative;}#sk-container-id-1 div.sk-item {position: relative;z-index: 1;}#sk-container-id-1 div.sk-parallel {display: flex;align-items: stretch;justify-content: center;background-color: white;position: relative;}#sk-container-id-1 div.sk-item::before, #sk-container-id-1 div.sk-parallel-item::before {content: \"\";position: absolute;border-left: 1px solid gray;box-sizing: border-box;top: 0;bottom: 0;left: 50%;z-index: -1;}#sk-container-id-1 div.sk-parallel-item {display: flex;flex-direction: column;z-index: 1;position: relative;background-color: white;}#sk-container-id-1 div.sk-parallel-item:first-child::after {align-self: flex-end;width: 50%;}#sk-container-id-1 div.sk-parallel-item:last-child::after {align-self: flex-start;width: 50%;}#sk-container-id-1 div.sk-parallel-item:only-child::after {width: 0;}#sk-container-id-1 div.sk-dashed-wrapped {border: 1px dashed gray;margin: 0 0.4em 0.5em 0.4em;box-sizing: border-box;padding-bottom: 0.4em;background-color: white;}#sk-container-id-1 div.sk-label label {font-family: monospace;font-weight: bold;display: inline-block;line-height: 1.2em;}#sk-container-id-1 div.sk-label-container {text-align: center;}#sk-container-id-1 div.sk-container {/* jupyter's `normalize.less` sets `[hidden] { display: none; }` but bootstrap.min.css set `[hidden] { display: none !important; }` so we also need the `!important` here to be able to override the default hidden behavior on the sphinx rendered scikit-learn.org. See: https://github.com/scikit-learn/scikit-learn/issues/21755 */display: inline-block !important;position: relative;}#sk-container-id-1 div.sk-text-repr-fallback {display: none;}</style><div id=\"sk-container-id-1\" class=\"sk-top-container\"><div class=\"sk-text-repr-fallback\"><pre>DecisionTreeClassifier(criterion=&#x27;entropy&#x27;, random_state=0)</pre><b>In a Jupyter environment, please rerun this cell to show the HTML representation or trust the notebook. <br />On GitHub, the HTML representation is unable to render, please try loading this page with nbviewer.org.</b></div><div class=\"sk-container\" hidden><div class=\"sk-item\"><div class=\"sk-estimator sk-toggleable\"><input class=\"sk-toggleable__control sk-hidden--visually\" id=\"sk-estimator-id-1\" type=\"checkbox\" checked><label for=\"sk-estimator-id-1\" class=\"sk-toggleable__label sk-toggleable__label-arrow\">DecisionTreeClassifier</label><div class=\"sk-toggleable__content\"><pre>DecisionTreeClassifier(criterion=&#x27;entropy&#x27;, random_state=0)</pre></div></div></div></div></div>"
      ],
      "text/plain": [
       "DecisionTreeClassifier(criterion='entropy', random_state=0)"
      ]
     },
     "execution_count": 50,
     "metadata": {},
     "output_type": "execute_result"
    }
   ],
   "source": [
    "df.fit(x_train,y_train)"
   ]
  },
  {
   "cell_type": "code",
   "execution_count": 51,
   "id": "f0071789-83b9-41f3-b1ff-f069f1549770",
   "metadata": {},
   "outputs": [
    {
     "data": {
      "text/plain": [
       "array([ True, False, False, ...,  True, False, False])"
      ]
     },
     "execution_count": 51,
     "metadata": {},
     "output_type": "execute_result"
    }
   ],
   "source": [
    "pred=df.predict(x_test)\n",
    "pred"
   ]
  },
  {
   "cell_type": "code",
   "execution_count": 52,
   "id": "0eacf349-31d0-458a-a101-7825d61c4f0a",
   "metadata": {},
   "outputs": [
    {
     "data": {
      "text/plain": [
       "array([[ True],\n",
       "       [False],\n",
       "       [False],\n",
       "       ...,\n",
       "       [ True],\n",
       "       [False],\n",
       "       [False]])"
      ]
     },
     "execution_count": 52,
     "metadata": {},
     "output_type": "execute_result"
    }
   ],
   "source": [
    "y_test"
   ]
  },
  {
   "cell_type": "code",
   "execution_count": 53,
   "id": "38cca7c7-734e-4a17-8690-54d89357e59c",
   "metadata": {},
   "outputs": [
    {
     "data": {
      "text/plain": [
       "0.9902091677792613"
      ]
     },
     "execution_count": 53,
     "metadata": {},
     "output_type": "execute_result"
    }
   ],
   "source": [
    "\n",
    "from sklearn.metrics import accuracy_score,confusion_matrix,classification_report\n",
    "accuracy_score(y_test,pred)"
   ]
  },
  {
   "cell_type": "code",
   "execution_count": 54,
   "id": "d140758d-1bc7-46bb-a457-76cb772729ee",
   "metadata": {},
   "outputs": [
    {
     "data": {
      "text/plain": [
       "array([[1789,   13],\n",
       "       [   9,  436]], dtype=int64)"
      ]
     },
     "execution_count": 54,
     "metadata": {},
     "output_type": "execute_result"
    }
   ],
   "source": [
    "confusion_matrix(y_test,pred)"
   ]
  },
  {
   "cell_type": "code",
   "execution_count": 55,
   "id": "6f1ef5ae-85f8-4a48-990e-28b99dbffe42",
   "metadata": {},
   "outputs": [
    {
     "name": "stdout",
     "output_type": "stream",
     "text": [
      "              precision    recall  f1-score   support\n",
      "\n",
      "       False       0.99      0.99      0.99      1802\n",
      "        True       0.97      0.98      0.98       445\n",
      "\n",
      "    accuracy                           0.99      2247\n",
      "   macro avg       0.98      0.99      0.98      2247\n",
      "weighted avg       0.99      0.99      0.99      2247\n",
      "\n"
     ]
    }
   ],
   "source": [
    "print(classification_report(y_test,pred))"
   ]
  },
  {
   "cell_type": "code",
   "execution_count": 59,
   "id": "3bcaadfc-b097-40ce-8792-c37604185f8a",
   "metadata": {},
   "outputs": [],
   "source": [
    "#Random Forest\n",
    "from sklearn.ensemble import RandomForestClassifier"
   ]
  },
  {
   "cell_type": "code",
   "execution_count": 60,
   "id": "2a231536-eafd-4d65-bc7a-442100017af6",
   "metadata": {},
   "outputs": [],
   "source": [
    "rf=RandomForestClassifier(n_estimators=10,criterion='entropy',random_state=0)\n"
   ]
  },
  {
   "cell_type": "code",
   "execution_count": 61,
   "id": "af19b422-24f5-4a58-8c74-4aab47dfdab2",
   "metadata": {},
   "outputs": [
    {
     "name": "stderr",
     "output_type": "stream",
     "text": [
      "C:\\Users\\Admin\\AppData\\Local\\Temp\\ipykernel_26504\\3003225574.py:2: DataConversionWarning: A column-vector y was passed when a 1d array was expected. Please change the shape of y to (n_samples,), for example using ravel().\n",
      "  rf.fit(x_train,y_train)\n"
     ]
    },
    {
     "data": {
      "text/html": [
       "<style>#sk-container-id-2 {color: black;background-color: white;}#sk-container-id-2 pre{padding: 0;}#sk-container-id-2 div.sk-toggleable {background-color: white;}#sk-container-id-2 label.sk-toggleable__label {cursor: pointer;display: block;width: 100%;margin-bottom: 0;padding: 0.3em;box-sizing: border-box;text-align: center;}#sk-container-id-2 label.sk-toggleable__label-arrow:before {content: \"▸\";float: left;margin-right: 0.25em;color: #696969;}#sk-container-id-2 label.sk-toggleable__label-arrow:hover:before {color: black;}#sk-container-id-2 div.sk-estimator:hover label.sk-toggleable__label-arrow:before {color: black;}#sk-container-id-2 div.sk-toggleable__content {max-height: 0;max-width: 0;overflow: hidden;text-align: left;background-color: #f0f8ff;}#sk-container-id-2 div.sk-toggleable__content pre {margin: 0.2em;color: black;border-radius: 0.25em;background-color: #f0f8ff;}#sk-container-id-2 input.sk-toggleable__control:checked~div.sk-toggleable__content {max-height: 200px;max-width: 100%;overflow: auto;}#sk-container-id-2 input.sk-toggleable__control:checked~label.sk-toggleable__label-arrow:before {content: \"▾\";}#sk-container-id-2 div.sk-estimator input.sk-toggleable__control:checked~label.sk-toggleable__label {background-color: #d4ebff;}#sk-container-id-2 div.sk-label input.sk-toggleable__control:checked~label.sk-toggleable__label {background-color: #d4ebff;}#sk-container-id-2 input.sk-hidden--visually {border: 0;clip: rect(1px 1px 1px 1px);clip: rect(1px, 1px, 1px, 1px);height: 1px;margin: -1px;overflow: hidden;padding: 0;position: absolute;width: 1px;}#sk-container-id-2 div.sk-estimator {font-family: monospace;background-color: #f0f8ff;border: 1px dotted black;border-radius: 0.25em;box-sizing: border-box;margin-bottom: 0.5em;}#sk-container-id-2 div.sk-estimator:hover {background-color: #d4ebff;}#sk-container-id-2 div.sk-parallel-item::after {content: \"\";width: 100%;border-bottom: 1px solid gray;flex-grow: 1;}#sk-container-id-2 div.sk-label:hover label.sk-toggleable__label {background-color: #d4ebff;}#sk-container-id-2 div.sk-serial::before {content: \"\";position: absolute;border-left: 1px solid gray;box-sizing: border-box;top: 0;bottom: 0;left: 50%;z-index: 0;}#sk-container-id-2 div.sk-serial {display: flex;flex-direction: column;align-items: center;background-color: white;padding-right: 0.2em;padding-left: 0.2em;position: relative;}#sk-container-id-2 div.sk-item {position: relative;z-index: 1;}#sk-container-id-2 div.sk-parallel {display: flex;align-items: stretch;justify-content: center;background-color: white;position: relative;}#sk-container-id-2 div.sk-item::before, #sk-container-id-2 div.sk-parallel-item::before {content: \"\";position: absolute;border-left: 1px solid gray;box-sizing: border-box;top: 0;bottom: 0;left: 50%;z-index: -1;}#sk-container-id-2 div.sk-parallel-item {display: flex;flex-direction: column;z-index: 1;position: relative;background-color: white;}#sk-container-id-2 div.sk-parallel-item:first-child::after {align-self: flex-end;width: 50%;}#sk-container-id-2 div.sk-parallel-item:last-child::after {align-self: flex-start;width: 50%;}#sk-container-id-2 div.sk-parallel-item:only-child::after {width: 0;}#sk-container-id-2 div.sk-dashed-wrapped {border: 1px dashed gray;margin: 0 0.4em 0.5em 0.4em;box-sizing: border-box;padding-bottom: 0.4em;background-color: white;}#sk-container-id-2 div.sk-label label {font-family: monospace;font-weight: bold;display: inline-block;line-height: 1.2em;}#sk-container-id-2 div.sk-label-container {text-align: center;}#sk-container-id-2 div.sk-container {/* jupyter's `normalize.less` sets `[hidden] { display: none; }` but bootstrap.min.css set `[hidden] { display: none !important; }` so we also need the `!important` here to be able to override the default hidden behavior on the sphinx rendered scikit-learn.org. See: https://github.com/scikit-learn/scikit-learn/issues/21755 */display: inline-block !important;position: relative;}#sk-container-id-2 div.sk-text-repr-fallback {display: none;}</style><div id=\"sk-container-id-2\" class=\"sk-top-container\"><div class=\"sk-text-repr-fallback\"><pre>RandomForestClassifier(criterion=&#x27;entropy&#x27;, n_estimators=10, random_state=0)</pre><b>In a Jupyter environment, please rerun this cell to show the HTML representation or trust the notebook. <br />On GitHub, the HTML representation is unable to render, please try loading this page with nbviewer.org.</b></div><div class=\"sk-container\" hidden><div class=\"sk-item\"><div class=\"sk-estimator sk-toggleable\"><input class=\"sk-toggleable__control sk-hidden--visually\" id=\"sk-estimator-id-2\" type=\"checkbox\" checked><label for=\"sk-estimator-id-2\" class=\"sk-toggleable__label sk-toggleable__label-arrow\">RandomForestClassifier</label><div class=\"sk-toggleable__content\"><pre>RandomForestClassifier(criterion=&#x27;entropy&#x27;, n_estimators=10, random_state=0)</pre></div></div></div></div></div>"
      ],
      "text/plain": [
       "RandomForestClassifier(criterion='entropy', n_estimators=10, random_state=0)"
      ]
     },
     "execution_count": 61,
     "metadata": {},
     "output_type": "execute_result"
    }
   ],
   "source": [
    "#training the model\n",
    "rf.fit(x_train,y_train)"
   ]
  },
  {
   "cell_type": "code",
   "execution_count": 62,
   "id": "43b08e10-faa0-421d-9065-673b277fab79",
   "metadata": {},
   "outputs": [
    {
     "data": {
      "text/plain": [
       "array([ True, False, False, ...,  True, False, False])"
      ]
     },
     "execution_count": 62,
     "metadata": {},
     "output_type": "execute_result"
    }
   ],
   "source": [
    "#test the model\n",
    "pred=rf.predict(x_test)\n",
    "pred"
   ]
  },
  {
   "cell_type": "code",
   "execution_count": 63,
   "id": "afc2e14d-7086-40dd-8c27-fb11a122b8d2",
   "metadata": {},
   "outputs": [
    {
     "data": {
      "text/plain": [
       "array([[ True],\n",
       "       [False],\n",
       "       [False],\n",
       "       ...,\n",
       "       [ True],\n",
       "       [False],\n",
       "       [False]])"
      ]
     },
     "execution_count": 63,
     "metadata": {},
     "output_type": "execute_result"
    }
   ],
   "source": [
    "y_test"
   ]
  },
  {
   "cell_type": "code",
   "execution_count": 64,
   "id": "5d9194d7-6279-4921-8c36-4e89589c85d8",
   "metadata": {},
   "outputs": [],
   "source": [
    "# Evaluate the model\n",
    "from sklearn.metrics import accuracy_score,confusion_matrix,classification_report\n",
    "accuracy=accuracy_score(y_test,pred)\n",
    "conmat=confusion_matrix(y_test,pred)"
   ]
  },
  {
   "cell_type": "code",
   "execution_count": 65,
   "id": "3d2051a9-6184-4421-b36d-d1bc33dedcc7",
   "metadata": {},
   "outputs": [
    {
     "name": "stdout",
     "output_type": "stream",
     "text": [
      "0.8869603916332889\n"
     ]
    }
   ],
   "source": [
    "print(accuracy)"
   ]
  },
  {
   "cell_type": "code",
   "execution_count": 66,
   "id": "a6320570-a629-4da5-8d8b-28e8feb46bb6",
   "metadata": {},
   "outputs": [
    {
     "name": "stdout",
     "output_type": "stream",
     "text": [
      "              precision    recall  f1-score   support\n",
      "\n",
      "       False       0.89      0.98      0.93      1802\n",
      "        True       0.86      0.51      0.64       445\n",
      "\n",
      "    accuracy                           0.89      2247\n",
      "   macro avg       0.88      0.75      0.79      2247\n",
      "weighted avg       0.88      0.89      0.88      2247\n",
      "\n"
     ]
    }
   ],
   "source": [
    "print(classification_report(y_test,pred))"
   ]
  },
  {
   "cell_type": "code",
   "execution_count": null,
   "id": "b13c8304-ba51-42ce-a8c5-ec4ebea8b335",
   "metadata": {},
   "outputs": [],
   "source": []
  }
 ],
 "metadata": {
  "kernelspec": {
   "display_name": "Python 3 (ipykernel)",
   "language": "python",
   "name": "python3"
  },
  "language_info": {
   "codemirror_mode": {
    "name": "ipython",
    "version": 3
   },
   "file_extension": ".py",
   "mimetype": "text/x-python",
   "name": "python",
   "nbconvert_exporter": "python",
   "pygments_lexer": "ipython3",
   "version": "3.11.7"
  }
 },
 "nbformat": 4,
 "nbformat_minor": 5
}
